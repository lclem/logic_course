{
 "cells": [
  {
   "cell_type": "markdown",
   "metadata": {
    "code_hole_highlighter": [],
    "codehighlighter": [],
    "id": 134,
    "summary": true
   },
   "source": [
    "<h6>Summary<span class=\"summary\"></span></h6><a href=\"#code.prop\"><span class=\"module-name-text-summary\" style=\"white-space: nowrap;\">code.prop</span></a><span class=\"module-name-text-summary\">, </span><a href=\"#code.universal\"><span class=\"module-name-text-summary\" style=\"white-space: nowrap;\">code.universal</span></a><span class=\"module-name-text-summary\">, </span><a href=\"#code.universal.ex0\"><span class=\"module-name-text-summary\" style=\"white-space: nowrap;\">code.universal.ex0</span></a><span class=\"module-name-text-summary\">, </span><a href=\"#code.universal.ex0\"><span class=\"module-name-text-summary\" style=\"white-space: nowrap;\">code.universal.ex0</span></a><span class=\"module-name-text-summary\">, </span><a href=\"#code.universal.ex01\"><span class=\"module-name-text-summary\" style=\"white-space: nowrap;\">code.universal.ex01</span></a><span class=\"module-name-text-summary\">, </span><a href=\"#code.universal.ex01\"><span class=\"module-name-text-summary\" style=\"white-space: nowrap;\">code.universal.ex01</span></a><span class=\"module-name-text-summary\">, </span><a href=\"#code.universal.ex1\"><span class=\"module-name-text-summary\" style=\"white-space: nowrap;\">code.universal.ex1</span></a><span class=\"module-name-text-summary\">, </span><a href=\"#code.universal.ex1\"><span class=\"module-name-text-summary\" style=\"white-space: nowrap;\">code.universal.ex1</span></a><span class=\"module-name-text-summary\">, </span><a href=\"#code.existential\"><span class=\"module-name-text-summary\" style=\"white-space: nowrap;\">code.existential</span></a><span class=\"module-name-text-summary\">, </span><a href=\"#code.existential.prop\"><span class=\"module-name-text-summary\" style=\"white-space: nowrap;\">code.existential.prop</span></a><span class=\"module-name-text-summary\">, </span><a href=\"#code.existential.prop\"><span class=\"module-name-text-summary\" style=\"white-space: nowrap;\">code.existential.prop</span></a><span class=\"module-name-text-summary\">, </span><a href=\"#code.universal-existential\"><span class=\"module-name-text-summary\" style=\"white-space: nowrap;\">code.universal-existential</span></a><span class=\"module-name-text-summary\">, </span><a href=\"#code.universal-existential\"><span class=\"module-name-text-summary\" style=\"white-space: nowrap;\">code.universal-existential</span></a><span class=\"module-name-text-summary\">, </span><a href=\"#code.rel\"><span class=\"module-name-text-summary\" style=\"white-space: nowrap;\">code.rel</span></a><span class=\"module-name-text-summary\">, </span><a href=\"#code.rel.total\"><span class=\"module-name-text-summary\" style=\"white-space: nowrap;\">code.rel.total</span></a><span class=\"module-name-text-summary\">, </span><a href=\"#code.rel.total\"><span class=\"module-name-text-summary\" style=\"white-space: nowrap;\">code.rel.total</span></a><span class=\"module-name-text-summary\">, </span><a href=\"#code.rel.comp\"><span class=\"module-name-text-summary\" style=\"white-space: nowrap;\">code.rel.comp</span></a><span class=\"module-name-text-summary\">, </span><a href=\"#code.rel.comp.refl\"><span class=\"module-name-text-summary\" style=\"white-space: nowrap;\">code.rel.comp.refl</span></a><span class=\"module-name-text-summary\">, </span><a href=\"#code.rel.comp.refl\"><span class=\"module-name-text-summary\" style=\"white-space: nowrap;\">code.rel.comp.refl</span></a><span class=\"module-name-text-summary\">, </span><a href=\"#code.rel.incl\"><span class=\"module-name-text-summary\" style=\"white-space: nowrap;\">code.rel.incl</span></a><span class=\"module-name-text-summary\">, </span><a href=\"#code.rel.comp.trans\"><span class=\"module-name-text-summary\" style=\"white-space: nowrap;\">code.rel.comp.trans</span></a><span class=\"module-name-text-summary\">, </span><a href=\"#code.rel.comp.trans\"><span class=\"module-name-text-summary\" style=\"white-space: nowrap;\">code.rel.comp.trans</span></a>\n"
   ]
  },
  {
   "cell_type": "markdown",
   "metadata": {
    "code_hole_highlighter": [],
    "codehighlighter": [],
    "fileName": "/Users/lorenzo/Dropbox/workspace/teaching/2019-2020/LDI (logika dla informatyków)/labs/agda/code/prop.agda",
    "holes": [],
    "id": 106,
    "isError": true,
    "moduleName": "code.prop",
    "preambleLength": 0
   },
   "source": [
    "**LICENCE:**\n",
    "This tutorial contains adaptations of material from [Programming Language Foundations in Agda](https://plfa.github.io/) by Phil Wadler and Wen Kokke. It is licensed under Creative Commons Attribution 4.0 International.\n",
    "\n",
    "**SYNTAX:**\n",
    "You can enter `→` by writing `->` and pressing TAB; pressing TAB again goes back to `->`. Similar useful combinations are:\n",
    "\n",
    "| base form | alternate form |\n",
    "|:---------:|:--------------:|\n",
    "| ->  | → |\n",
    "| \\   | λ |\n",
    "| neg | ¬ |\n",
    "| top | ⊤ |\n",
    "| bot | ⊥ |\n",
    "| /\\  | ∧ |\n",
    "| \\\\/ | ∨ |\n",
    "| <   | ⟨ |\n",
    "| >   | ⟩ |\n",
    "| forall | ∀ |\n",
    "| exists | ∃ |\n",
    "| Pi  | Π |\n",
    "| Sigma | Σ |\n",
    "\n",
    "<!---\n",
    "| phi | |\n",
    "| psi | |\n",
    "-->\n",
    "\n",
    "<!---\n",
    "\n",
    "**PRO TRICKS:**\n",
    "- You can ask Agda to provide the type of a closed expression. Just put the cursor nearby an expression and press SHIFT+TAB.\n",
    "- You can ask Agda to compute the normal form of an expression enclosed in parantheses, such as `(λ x → x)` (already in normal form).\n",
    "\n",
    "-->\n",
    "\n",
    "<!--- Starred exercises \"**Exercise***\" should be skipped on a first reading and dealt with only after all the non-starred one are resolved. -->\n",
    "\n",
    "# Curry-Howard isomorphism\n",
    "\n",
    "| Logic    | Programming |     |\n",
    "|----------|-------------|-----|\n",
    "| theorems | types       | $A$ |\n",
    "| proofs   | programs (terms) | $a$ |\n",
    "| proof simplification | program execution | run $a$ |\n",
    "| proof development | programming | write $a$ |\n",
    "| proof checking | type checking | given $a, A$, does $a : A$ hold? |\n",
    "| validity | type inhabitation | given $A$, find $a$ s.t. $a : A$ |\n",
    "| ?        | type reconstruction | given $a$, find $A$ s.t. $a : A$ |\n",
    "\n",
    "# Intuitionistic propositional logic\n",
    "\n",
    "We reproduce without further comment the basic definitions for propositional logic.\n",
    "\n",
    "````\n",
    "module code.prop where\n",
    "\n",
    "infixr 2 _∧_\n",
    "data _∧_ (A : Set) (B : Set) : Set where\n",
    "  ⟨_,_⟩ : A → B → A ∧ B\n",
    "\n",
    "fst : {A B : Set} → A ∧ B → A\n",
    "fst ⟨ a , _ ⟩ = a\n",
    "\n",
    "snd : {A B : Set} → A ∧ B → B\n",
    "snd ⟨ _ , b ⟩ = b\n",
    "\n",
    "infixr 1 _∨_ \n",
    "data _∨_ (A : Set) (B : Set) : Set where\n",
    "    left : A → A ∨ B\n",
    "    right : B → A ∨ B\n",
    "\n",
    "case : {A B C : Set} → (A → C) → (B → C) → A ∨ B → C\n",
    "case f g (left x) = f x\n",
    "case f g (right x) = g x\n",
    "\n",
    "data ⊤ : Set where\n",
    "  tt : ⊤\n",
    "\n",
    "A→⊤ : {A : Set} → A → ⊤\n",
    "A→⊤ _ = tt\n",
    "\n",
    "data ⊥ : Set where\n",
    "\n",
    "⊥-elim : {A : Set} → ⊥ → A\n",
    "⊥-elim ()\n",
    "\n",
    "infix 3 ¬_ \n",
    "¬_ : Set → Set\n",
    "¬ A = A → ⊥\n",
    "````"
   ]
  },
  {
   "cell_type": "markdown",
   "metadata": {
    "code_hole_highlighter": [],
    "codehighlighter": [],
    "id": 137
   },
   "source": [
    "# Dependent types in Agda\n",
    "\n",
    "So far we have only seen *(polymorphic) simple types*,\n",
    "such as `A → B` for `(A B : Set)`.\n",
    "There are situations where one wants to impose some additional property on the output `B`\n",
    "which depends on the particular input `a : A`.\n",
    "In order to achieve this, the output `B` is generalised to have type `A → Set` (instead of just `Set`).\n",
    "One obtains *dependent* function space\n",
    "\n",
    "```agda\n",
    "(a : A) → B a\n",
    "```\n",
    "\n",
    "Notice how the type expression `B a` now contain the *term* `a`,\n",
    "i.e., the type `B a : Set` *depends* on `a`.\n",
    "\n",
    "Our main application and source of examples of dependent types is to model intuitionistic first-order logic."
   ]
  },
  {
   "cell_type": "markdown",
   "metadata": {
    "code_hole_highlighter": [],
    "codehighlighter": [],
    "fileName": "/Users/lorenzo/Dropbox/workspace/teaching/2019-2020/LDI (logika dla informatyków)/labs/agda/code/universal.agda",
    "holes": [],
    "id": 135,
    "moduleName": "code.universal",
    "preambleLength": 0
   },
   "source": [
    "# Intuitionistic first-order logic\n",
    "\n",
    "We show how dependent types can be used to implement universal quantification (dependent function space)\n",
    "and existential quantification (dependent product).\n",
    "\n",
    "## The universal quantifier ∀\n",
    "\n",
    "````\n",
    "module code.universal where\n",
    "open import code.prop public\n",
    "````\n",
    "\n",
    "In intuitionistic logic a proof of $\\forall (a : A) B$ is a function $f$ mapping a proof $a$ of $A$\n",
    "into a proof $f\\; a$ of $B\\; a$, where we can see $B$ as a family of types indexed by proofs of $A$.\n",
    "The universal quantifier is implemented via the *dependent function space*\n",
    "\n",
    "````\n",
    "Π : (A : Set) → (B : A → Set) → Set\n",
    "Π A B = (a : A) → B a\n",
    "\n",
    "-- compare with implication:\n",
    "-- ((a : A) → B a) versus A → B\n",
    "````\n",
    "\n",
    "This generalises implication `A → B`, which corresponds to non-dependent function space.\n",
    "In this sense, in intuitionistic logic implication is a special case of universal quantification.\n",
    "\n",
    "(Universal quantification also generalises conjunction,\n",
    "since the type $B_1 \\wedge B_2$ is isomorphic to $\\Pi\\; A\\; B$\n",
    "where $A = \\{1, 2\\}$ and $B = \\{ 1 \\mapsto B_1, 2 \\mapsto B_2 \\}$.\n",
    "For this reason, sometimes `Π` is called dependent product, hence the notation.\n",
    "However, for us dependent product is something else and it will be used below to model existential quantification.)\n",
    "\n",
    "````\n",
    "-- the type of the first argument of Π can be inferred from the second\n",
    "forAll : {A : Set} → (B : A → Set) → Set\n",
    "forAll {A} B = Π A B\n",
    "\n",
    "-- we introduce a convenient syntax reminiscent of universal quantification in logic\n",
    "∀-syntax = forAll\n",
    "infix 0 ∀-syntax\n",
    "syntax ∀-syntax (λ x → B) = ∀[ x ] B\n",
    "\n",
    "-- dependent apply; corresponds to ∀-elimination\n",
    "apply : {A : Set} → {B : A → Set} → Π A B → (a : A) → B a\n",
    "apply f x = f x\n",
    "````"
   ]
  },
  {
   "cell_type": "markdown",
   "metadata": {
    "code_hole_highlighter": [],
    "codehighlighter": [],
    "id": 141
   },
   "source": [
    "### **Exercise** (`∀`)\n",
    "\n",
    "1. Show that the universal quantifier commutes with itself:\n",
    "$(\\forall a. \\forall b. P\\; a\\; b) \\to \\forall b. \\forall a. P\\; a\\; b$.\n",
    "\n",
    "2. Show that one can diagonalise an universal relation:\n",
    "$(\\forall a. \\forall b. P\\; a\\; b) \\to \\forall a. P\\; a\\; a$."
   ]
  },
  {
   "cell_type": "code",
   "execution_count": null,
   "metadata": {
    "code_hole_highlighter": [
     7,
     7,
     10,
     10
    ],
    "codehighlighter": [],
    "fileName": "/Users/lorenzo/Dropbox/workspace/teaching/2019-2020/LDI (logika dla informatyków)/labs/agda/code/universal/ex0.agda",
    "holes": [
     7,
     7,
     10,
     10
    ],
    "id": 187,
    "moduleName": "code.universal.ex0",
    "preambleLength": 0
   },
   "outputs": [],
   "source": [
    "module code.universal.ex0 where\n",
    "open import code.universal\n",
    "\n",
    "-- recall that \"∀[ a ] ∀[ b ] P a b\" is the same as\n",
    "-- \"Π A (λ a → Π A (λ b → P a b))\", which in turn just means\n",
    "-- \"(a : A) → (b : A) → P a b\"\n",
    "∀-comm : {A : Set} {P : A → A → Set} → ∀[ a ] ∀[ b ] P a b → ∀[ b ] ∀[ a ] P a b\n",
    "∀-comm = ?\n",
    "\n",
    "∀-diag : {A : Set} {P : A → A → Set} → ∀[ a ] ∀[ b ] P a b → ∀[ a ] P a a\n",
    "∀-diag = ?"
   ]
  },
  {
   "cell_type": "markdown",
   "metadata": {
    "code_hole_highlighter": [],
    "codehighlighter": [],
    "id": 144
   },
   "source": [
    "### **Exercise** (`∀`,`→`)\n",
    "\n",
    "Show that the universal quantifier distributes over implication:\n",
    "$(\\forall a. P\\; a\\ \\to Q\\; a) \\to (\\forall a. P\\; a) \\to \\forall a. Q\\; a$."
   ]
  },
  {
   "cell_type": "code",
   "execution_count": null,
   "metadata": {
    "code_hole_highlighter": [
     7,
     7
    ],
    "codehighlighter": [],
    "fileName": "/Users/lorenzo/Dropbox/workspace/teaching/2019-2020/LDI (logika dla informatyków)/labs/agda/code/universal/ex01.agda",
    "holes": [
     7,
     7
    ],
    "id": 188,
    "moduleName": "code.universal.ex01",
    "preambleLength": 0
   },
   "outputs": [],
   "source": [
    "module code.universal.ex01 where\n",
    "open import code.universal\n",
    "\n",
    "-- recall that \"∀[ a ] P a\" is the same as\n",
    "-- \"Π A (λ a → P a)\", which in turn just means\n",
    "-- \"(a : A) → P a\"\n",
    "∀→-distr : {A : Set} {P Q : A → Set} → ∀[ a ] (P a → Q a) → ∀[ a ] P a → ∀[ a ] Q a\n",
    "∀→-distr = ?"
   ]
  },
  {
   "cell_type": "markdown",
   "metadata": {
    "code_hole_highlighter": [],
    "codehighlighter": [],
    "id": 108
   },
   "source": [
    "### **Exercise** (`∀`, `∧`, and `∨`)\n",
    "\n",
    "Which of the following are intuitionistic tautologies?\n",
    "Which are classic tautologies?\n",
    "Which are none?\n",
    "Prove the intuitionistic ones.\n",
    "\n",
    "1. $\\forall a B \\wedge C \\to (\\forall a B) \\wedge (\\forall a C)$.\n",
    "2. $(\\forall a B) \\wedge (\\forall a C) \\to \\forall a B \\wedge C$.\n",
    "3. $\\forall a B \\vee C \\to (\\forall a B) \\vee (\\forall a C)$.\n",
    "4. $ \\forall a B \\vee C \\to (\\forall a B) \\vee C$, where $a$ does not occurr in $C$.\n",
    "5. $(\\forall a B) \\vee (\\forall a C) \\to \\forall a (B \\vee C)$.\n",
    "\n",
    "*Hint:* If you cannot easily program a solution, then most likely there is no solution."
   ]
  },
  {
   "cell_type": "code",
   "execution_count": null,
   "metadata": {
    "code_hole_highlighter": [
     5,
     5,
     18,
     18,
     22,
     22,
     26,
     26,
     30,
     30
    ],
    "codehighlighter": [],
    "fileName": "/Users/lorenzo/Dropbox/workspace/teaching/2019-2020/LDI (logika dla informatyków)/labs/agda/code/universal/ex1.agda",
    "holes": [
     5,
     5,
     18,
     18,
     22,
     22,
     26,
     26,
     30,
     30
    ],
    "id": 110,
    "moduleName": "code.universal.ex1",
    "preambleLength": 0
   },
   "outputs": [],
   "source": [
    "module code.universal.ex1 where\n",
    "open import code.universal\n",
    "\n",
    "-- 1.\n",
    "∀∧-distr : {A : Set} {B C : A → Set} → ∀[ a ] B a ∧ C a → (∀[ a ] B a) ∧ (∀[ a ] C a)\n",
    "∀∧-distr = ?\n",
    "\n",
    "{-\n",
    "The notation \"∀[ a ] B a\" is just syntactic sugaring for \"Π A (λ a → B a)\"\n",
    "(where A is inferred automatically from the type of B),\n",
    "which in turn is defined to be \"(a : A) → (λ a → B a) a\",\n",
    "i.e., \"(a : A) → B a\".\n",
    "\n",
    "Using \"∀[ a ] B a\" instead of \"(a : A) → B a\" makes the syntax closer to logic.\n",
    "-}\n",
    "\n",
    "-- 2.\n",
    "∧∀-distr : {A : Set} {B C : A → Set} → (∀[ a ] B a) ∧ (∀[ a ] C a) → ∀[ a ] B a ∧ C a\n",
    "∧∀-distr = ?\n",
    "\n",
    "-- 3.\n",
    "∀∨-distr : {A : Set} {B C : A → Set} → ∀[ a ] B a ∨ C a → (∀[ a ] B a) ∨ (∀[ a ] C a)\n",
    "∀∨-distr = ?\n",
    "\n",
    "-- 4.\n",
    "∀∨-distr' : {A C : Set} {B : A → Set} → ∀[ a ] B a ∨ C → (∀[ a ] B a) ∨ C\n",
    "∀∨-distr' = ?\n",
    "\n",
    "-- 5.\n",
    "∨∀-distr : {A : Set} {B C : A → Set} → (∀[ a ] B a) ∨ (∀[ a ] C a) → ∀[ a ] B a ∨ C a\n",
    "∨∀-distr = ?"
   ]
  },
  {
   "cell_type": "markdown",
   "metadata": {
    "code_hole_highlighter": [],
    "codehighlighter": [],
    "fileName": "/Users/lorenzo/Dropbox/workspace/teaching/2019-2020/LDI (logika dla informatyków)/labs/agda/code/existential.agda",
    "holes": [],
    "id": 112,
    "isError": true,
    "moduleName": "code.existential",
    "preambleLength": 0
   },
   "source": [
    "## The existential quantifier ∃\n",
    "\n",
    "````\n",
    "module code.existential where\n",
    "open import code.universal public\n",
    "````\n",
    "\n",
    "In intuitionistic logic,\n",
    "a proof of $\\exists (a : A) B$ is a pair $(a, b)$,\n",
    "where $a$ is a proof of $A$\n",
    "and $b$ is a proof of $B\\; a$.\n",
    "Like in universal quantification, we can see $B$ as a family of types indexed by proofs of $A$.\n",
    "The existential quantifier is implemented with the *dependent product*:\n",
    "\n",
    "````\n",
    "data Σ (A : Set) (B : A → Set) : Set where\n",
    "    ⟨_,_⟩ : (a : A) → B a → Σ A B\n",
    "````\n",
    "\n",
    "Compare this with conjunction, which corresponds to non-dependent product $A \\wedge B$:\n",
    "\n",
    "```agda\n",
    "-- data _∧_ (A : Set) (B : Set) : Set where\n",
    "--  ⟨_,_⟩ : A → B → A ∧ B\n",
    "```\n",
    "\n",
    "In this sense, in intuitionistic logic existential quantification `Σ` generalises conjunction,\n",
    "which justifies the name dependent product.\n",
    "(This can create confusion because `Π` is sometimes called dependent product too,\n",
    "since also `Π` generalises conjunction.)\n",
    "\n",
    "(Existential quantification also generalises disjunction,\n",
    "since the type $B_1 \\vee B_2$ is isomorphic to $\\Sigma\\; A\\; B$\n",
    "with $A = \\{1, 2\\}$ and $B = \\{ 1 \\mapsto B_1, 2 \\mapsto B_2 \\}$.\n",
    "For this reason, `Σ` is sometimes called dependent sum.\n",
    "However, we will not follow this terminology here.)\n",
    "\n",
    "````\n",
    "thereExists : ∀ {A : Set} (B : A → Set) → Set\n",
    "thereExists {A} B = Σ A B\n",
    "\n",
    "∃-syntax = thereExists\n",
    "infix 0 ∃-syntax\n",
    "syntax ∃-syntax (λ x → B) = ∃[ x ] B\n",
    "\n",
    "-- aka uncurry\n",
    "∃-elim : {A : Set} {B : A → Set} {C : Set} → ((a : A) → B a → C) → Σ A B → C\n",
    "∃-elim a→b→c ⟨ a , b ⟩ = a→b→c a b\n",
    "````\n",
    "\n",
    "We can also define projection functions for dependent pairs.\n",
    "````\n",
    "dfst : {A : Set} {B : A → Set} → Σ A B → A\n",
    "dfst ⟨ a , _ ⟩ = a\n",
    "\n",
    "dsnd : {A : Set} {B : A → Set} → (p : Σ A B) → B (dfst p)\n",
    "dsnd ⟨ _ , b ⟩ = b\n",
    "````\n",
    "\n",
    "We note how the definition of the functions `dfst` and `dsnd` is exactly as before with non-dependend pairs,\n",
    "however the *type* of these functions is much more precise now."
   ]
  },
  {
   "cell_type": "markdown",
   "metadata": {
    "code_hole_highlighter": [],
    "codehighlighter": [],
    "id": 114
   },
   "source": [
    "### **Exercise** (`∃`, `∧`, and `∨`)\n",
    "\n",
    "Establish whether the following are intuitionistic tautologies\n",
    "and prove it in Agda for the positive cases:\n",
    "\n",
    "1. $\\exists a B \\vee C \\to (\\exists a B) \\vee (\\exists a C)$.\n",
    "2. $(\\exists a B) \\vee (\\exists a C) \\to \\exists a B \\vee C$.\n",
    "3. $\\exists a B \\wedge C \\to (\\exists a B) \\wedge (\\exists a C)$.\n",
    "4. $(\\exists a B) \\wedge (\\exists a C) \\to \\exists a B \\wedge C$.\n",
    "5. $(\\exists a B) \\wedge C \\to \\exists a B \\wedge C$, where $a$ does not occurr in $C$."
   ]
  },
  {
   "cell_type": "code",
   "execution_count": null,
   "metadata": {
    "code_hole_highlighter": [
     5,
     5,
     9,
     9,
     13,
     13,
     17,
     17,
     21,
     21
    ],
    "codehighlighter": [],
    "fileName": "/Users/lorenzo/Dropbox/workspace/teaching/2019-2020/LDI (logika dla informatyków)/labs/agda/code/existential/prop.agda",
    "holes": [
     5,
     5,
     9,
     9,
     13,
     13,
     17,
     17,
     21,
     21
    ],
    "id": 116,
    "moduleName": "code.existential.prop",
    "preambleLength": 0
   },
   "outputs": [],
   "source": [
    "module code.existential.prop where\n",
    "open import code.existential\n",
    "\n",
    "-- 1\n",
    "∃∨-distr : {A : Set} {B C : A → Set} → ∃[ a ] B a ∨ C a → (∃[ a ] B a) ∨ (∃[ a ] C a)\n",
    "∃∨-distr = ?\n",
    "\n",
    "-- 2\n",
    "∨∃-distr : {A : Set} {B C : A → Set} → (∃[ a ] B a) ∨ (∃[ a ] C a) → ∃[ a ] B a ∨ C a\n",
    "∨∃-distr = ?\n",
    "\n",
    "-- 3\n",
    "∃∧-distr : {A : Set} {B C : A → Set} → ∃[ a ] B a ∧ C a → (∃[ a ] B a) ∧ (∃[ a ] C a)\n",
    "∃∧-distr = ?\n",
    "\n",
    "-- 4\n",
    "∧∃-distr : {A : Set} {B C : A → Set} → (∃[ a ] B a) ∧ (∃[ a ] C a) → ∃[ a ] B a ∧ C a\n",
    "∧∃-distr = ?\n",
    "\n",
    "-- 5\n",
    "∧∃-distr' : {A : Set} {B : A → Set} {C : Set} → (∃[ a ] B a) ∧ C → ∃[ a ] B a ∧ C\n",
    "∧∃-distr' = ?"
   ]
  },
  {
   "cell_type": "markdown",
   "metadata": {
    "code_hole_highlighter": [],
    "codehighlighter": [],
    "id": 118
   },
   "source": [
    "### **Exercise** (`∀`, `∃`, and `¬`)\n",
    "\n",
    " Which of the following hold in intuitionistic logic? Prove those that hold.\n",
    "\n",
    "1. $\\exists a \\forall b C \\to \\forall b \\exists a C$, where $C$ depends on $a$ and $b$.\n",
    "2. $\\neg \\exists a B \\to \\forall a \\neg B$, where $B$ depends on $a$.\n",
    "3. $\\forall a \\neg B \\to \\neg \\exists a B$, where $B$ depends on $a$.\n",
    "4. $\\exists a \\neg B \\to \\neg \\forall a B$, where $B$ depends on $a$.\n",
    "5. $\\neg \\forall a B \\to \\exists a \\neg B$, where $B$ depends on $a$."
   ]
  },
  {
   "cell_type": "code",
   "execution_count": null,
   "metadata": {
    "code_hole_highlighter": [
     7,
     7,
     11,
     11,
     15,
     15,
     19,
     19,
     23,
     23
    ],
    "codehighlighter": [],
    "fileName": "/Users/lorenzo/Dropbox/workspace/teaching/2019-2020/LDI (logika dla informatyków)/labs/agda/code/universal-existential.agda",
    "holes": [
     7,
     7,
     11,
     11,
     15,
     15,
     19,
     19,
     23,
     23
    ],
    "id": 120,
    "isError": true,
    "moduleName": "code.universal-existential",
    "preambleLength": 0
   },
   "outputs": [],
   "source": [
    "module code.universal-existential where\n",
    "open import code.universal\n",
    "open import code.existential\n",
    "\n",
    "-- 1\n",
    "-- B cannot depend on (a : A) for the swap to be possible!\n",
    "∃∀-distr : {A : Set} {B : Set} {C : A → B → Set} → ∃[ a ] ∀[ b ] C a b → ∀[ b ] ∃[ a ] C a b\n",
    "∃∀-distr = ?\n",
    "\n",
    "-- 2\n",
    "¬∃→∀¬ : {A : Set} {B : A → Set} → ¬ (∃[ a ] B a) → ∀[ a ] ¬ B a\n",
    "¬∃→∀¬ = ?\n",
    "\n",
    "-- 3\n",
    "∀¬→¬∃ : {A : Set} {B : A → Set} → ∀[ a ] ¬ B a → ¬ (∃[ a ] B a)\n",
    "∀¬→¬∃ = ?\n",
    "\n",
    "-- 4\n",
    "∃¬→¬∀ : {A : Set} {B : A → Set} → ∃[ a ] ¬ B a → ¬ (∀[ a ] B a)\n",
    "∃¬→¬∀ = ?\n",
    "\n",
    "-- 5\n",
    "¬∀→∃¬ : {A : Set} {B : A → Set} → ¬ (∀[ a ] B a) → ∃[ a ] ¬ B a\n",
    "¬∀→∃¬ = ?"
   ]
  },
  {
   "cell_type": "markdown",
   "metadata": {
    "code_hole_highlighter": [],
    "codehighlighter": [],
    "fileName": "/Users/lorenzo/Dropbox/workspace/teaching/2019-2020/LDI (logika dla informatyków)/labs/agda/code/rel.agda",
    "holes": [],
    "id": 139,
    "isError": true,
    "moduleName": "code.rel",
    "preambleLength": 0
   },
   "source": [
    "# Binary relations\n",
    "\n",
    "````\n",
    "module code.rel where\n",
    "open import code.universal public\n",
    "open import code.existential public\n",
    "````\n",
    "\n",
    "We apply first-order logic to study some properties of binary relations.\n",
    "We first define what is a binary relation.\n",
    "\n",
    "````\n",
    "Rel : Set → Set → Set1\n",
    "Rel A B = A → B → Set\n",
    "````\n",
    "\n",
    "(The type of `Rel A B` is `Set1`, which is the type of `Set : Set1`, which is the same as `Set0`.\n",
    "We do not need to bother anymore with type levels.)\n",
    "\n",
    "For example, we can express common properties of binary relations.\n",
    "\n",
    "````\n",
    "reflexive : ∀ {A : Set} → Rel A A → Set\n",
    "reflexive R = ∀[ x ] R x x\n",
    "\n",
    "symmetric : ∀ {A : Set} → Rel A A → Set\n",
    "symmetric R = ∀[ x ] ∀[ y ] (R x y → R y x)\n",
    "\n",
    "transitive : ∀ {A : Set} → Rel A A → Set\n",
    "transitive R = ∀[ x ] ∀[ y ] ∀[ z ] (R x y → R y z → R x z)\n",
    "````"
   ]
  },
  {
   "cell_type": "markdown",
   "metadata": {
    "code_hole_highlighter": [],
    "codehighlighter": [],
    "fileName": "/Users/lorenzo/Dropbox/workspace/teaching/2019-2020/LDI (logika dla informatyków)/labs/agda/AgdaLab2/cell150.agda",
    "holes": [],
    "id": 150,
    "isError": true,
    "moduleName": "AgdaLab2.cell150",
    "preambleLength": 3
   },
   "source": [
    "### **Exercise** (Total relations)\n",
    "\n",
    "1. Define in Agda what it means for a relation $R$ to be total:\n",
    "$\\forall x. \\exists y. R x y$.\n",
    "\n",
    "2. Formalise and prove that every relation $R$ which is symmetric, transitive, and total,\n",
    "it is also necessarily reflexive."
   ]
  },
  {
   "cell_type": "code",
   "execution_count": null,
   "metadata": {
    "code_hole_highlighter": [
     5,
     5,
     9,
     9,
     10,
     10
    ],
    "codehighlighter": [],
    "fileName": "/Users/lorenzo/Dropbox/workspace/teaching/2019-2020/LDI (logika dla informatyków)/labs/agda/code/rel/total.agda",
    "holes": [
     5,
     5,
     9,
     9,
     10,
     10
    ],
    "id": 189,
    "moduleName": "code.rel.total",
    "preambleLength": 0
   },
   "outputs": [],
   "source": [
    "{-# OPTIONS --allow-unsolved-metas #-}\n",
    "module code.rel.total where\n",
    "open import code.rel public\n",
    "\n",
    "total : ∀ {A B : Set} → Rel A B → Set\n",
    "total R = ?\n",
    "\n",
    "sym∧trans∧tot→refl :\n",
    "    (A : Set)\n",
    "    (R : Rel A A) → ?\n",
    "sym∧trans∧tot→refl = ?"
   ]
  },
  {
   "cell_type": "markdown",
   "metadata": {
    "code_hole_highlighter": [],
    "codehighlighter": [],
    "fileName": "/Users/lorenzo/Dropbox/workspace/teaching/2019-2020/LDI (logika dla informatyków)/labs/agda/code/rel/comp.agda",
    "holes": [],
    "id": 152,
    "isError": true,
    "moduleName": "code.rel.comp",
    "preambleLength": 0
   },
   "source": [
    "## Composition of relations\n",
    "\n",
    "````\n",
    "module code.rel.comp where\n",
    "open import code.rel.total public\n",
    "````\n",
    "\n",
    "We can define the composition of binary relations.\n",
    "\n",
    "````\n",
    "_∘_ : ∀ {A B C : Set} → Rel A B → Rel B C → Rel A C\n",
    "(R ∘ S) a c = ∃[ b ] (R a b ∧ S b c)\n",
    "````"
   ]
  },
  {
   "cell_type": "markdown",
   "metadata": {
    "code_hole_highlighter": [],
    "codehighlighter": [],
    "id": 155
   },
   "source": [
    "### **Exercise**\n",
    "Show that the composition of reflexive relations is also reflexive."
   ]
  },
  {
   "cell_type": "code",
   "execution_count": null,
   "metadata": {
    "code_hole_highlighter": [
     4,
     4
    ],
    "codehighlighter": [],
    "fileName": "/Users/lorenzo/Dropbox/workspace/teaching/2019-2020/LDI (logika dla informatyków)/labs/agda/code/rel/comp/refl.agda",
    "holes": [
     4,
     4
    ],
    "id": 190,
    "moduleName": "code.rel.comp.refl",
    "preambleLength": 0
   },
   "outputs": [],
   "source": [
    "module code.rel.comp.refl where\n",
    "open import code.rel.comp\n",
    "\n",
    "∘-refl : ∀ {A : Set} {R S : Rel A A} → reflexive R → reflexive S → reflexive (R ∘ S)\n",
    "∘-refl refl-R refl-S = ?"
   ]
  },
  {
   "cell_type": "markdown",
   "metadata": {
    "code_hole_highlighter": [],
    "codehighlighter": [],
    "fileName": "/Users/lorenzo/Dropbox/workspace/teaching/2019-2020/LDI (logika dla informatyków)/labs/agda/code/rel/incl.agda",
    "holes": [],
    "id": 158,
    "moduleName": "code.rel.incl",
    "preambleLength": 0
   },
   "source": [
    "## Inclusion\n",
    "\n",
    "````\n",
    "module code.rel.incl where\n",
    "open import code.rel.comp public\n",
    "````\n",
    "\n",
    "We can define that one relation is included into another.\n",
    "\n",
    "````\n",
    "_⊆_ : ∀ {A B : Set} → Rel A B → Rel A B → Set\n",
    "R ⊆ S = ∀[ x ] ∀[ y ] (R x y → S x y)\n",
    "````\n",
    "\n",
    "With this in hand, we can define that one relation commutes with another.\n",
    "\n",
    "````\n",
    "commute : ∀ {A : Set} (R S : Rel A A) → Set\n",
    "commute R S = (R ∘ S) ⊆ (S ∘ R)\n",
    "````"
   ]
  },
  {
   "cell_type": "markdown",
   "metadata": {
    "code_hole_highlighter": [],
    "codehighlighter": [],
    "id": 160
   },
   "source": [
    "### **Exercise**\n",
    "Prove that if $R$ and $S$ are transitive binary relations\n",
    "and moreover $S$ commutes over $R$, then their composition $R \\circ S$ is also transitive."
   ]
  },
  {
   "cell_type": "code",
   "execution_count": null,
   "metadata": {
    "code_hole_highlighter": [
     4,
     4
    ],
    "codehighlighter": [],
    "fileName": "/Users/lorenzo/Dropbox/workspace/teaching/2019-2020/LDI (logika dla informatyków)/labs/agda/code/rel/comp/trans.agda",
    "holes": [
     4,
     4
    ],
    "id": 191,
    "moduleName": "code.rel.comp.trans",
    "preambleLength": 0
   },
   "outputs": [],
   "source": [
    "module code.rel.comp.trans where\n",
    "open import code.rel.incl public\n",
    "\n",
    "∘-trans : ∀ (A : Set) (R S : Rel A A) → transitive R → transitive S → commute S R → transitive (R ∘ S)\n",
    "∘-trans A R S trans-R trans-S comm-SR x y z RSxy RSyz = ?"
   ]
  }
 ],
 "metadata": {
  "kernelspec": {
   "display_name": "agda",
   "language": "agda",
   "name": "agda"
  },
  "language_info": {
   "file_extension": ".agda",
   "mimetype": "text/agda",
   "name": "agda"
  },
  "latex_envs": {
   "LaTeX_envs_menu_present": true,
   "autoclose": false,
   "autocomplete": true,
   "bibliofile": "biblio.bib",
   "cite_by": "apalike",
   "current_citInitial": 1,
   "eqLabelWithNumbers": true,
   "eqNumInitial": 1,
   "hotkeys": {
    "equation": "Ctrl-E",
    "itemize": "Ctrl-I"
   },
   "labels_anchors": false,
   "latex_user_defs": false,
   "report_style_numbering": false,
   "user_envs_cfg": false
  },
  "nbTranslate": {
   "displayLangs": [
    "*"
   ],
   "hotkey": "alt-t",
   "langInMainMenu": true,
   "sourceLang": "en",
   "targetLang": "fr",
   "useGoogleTranslate": true
  },
  "toc": {
   "base_numbering": 1,
   "nav_menu": {},
   "number_sections": true,
   "sideBar": true,
   "skip_h1_title": false,
   "title_cell": "Table of Contents",
   "title_sidebar": "Contents",
   "toc_cell": false,
   "toc_position": {
    "height": "calc(100% - 180px)",
    "left": "10px",
    "top": "150px",
    "width": "315px"
   },
   "toc_section_display": true,
   "toc_window_display": true
  }
 },
 "nbformat": 4,
 "nbformat_minor": 2
}
